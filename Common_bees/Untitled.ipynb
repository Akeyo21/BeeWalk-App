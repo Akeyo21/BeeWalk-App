{
 "cells": [
  {
   "cell_type": "code",
   "execution_count": 6,
   "metadata": {},
   "outputs": [],
   "source": [
    "#build matrix"
   ]
  },
  {
   "cell_type": "code",
   "execution_count": 7,
   "metadata": {},
   "outputs": [],
   "source": [
    "#read file \n",
    "import pandas\n",
    "bee_data_df = pandas.read_excel('Bee_Data_changed.xlsx')\n",
    "#print(bee_data_df)\n",
    "\n",
    "\n"
   ]
  },
  {
   "cell_type": "code",
   "execution_count": 8,
   "metadata": {},
   "outputs": [
    {
     "name": "stdout",
     "output_type": "stream",
     "text": [
      "-6.355904102\n",
      "1.756712437\n",
      "49.70858\n",
      "59.30145264\n"
     ]
    }
   ],
   "source": [
    "#start with reading in latitudes and filling in numpy array\n",
    "print(bee_data_df['Transect Longitude'].min())\n",
    "print(bee_data_df['Transect Longitude'].max())\n",
    "print(bee_data_df['Transect Latitude'].min())\n",
    "\n",
    "\n",
    "\n",
    "print(bee_data_df['Transect Latitude'].max())"
   ]
  },
  {
   "cell_type": "code",
   "execution_count": 9,
   "metadata": {},
   "outputs": [],
   "source": [
    "species_list = list(bee_data_df.Species.unique())"
   ]
  },
  {
   "cell_type": "code",
   "execution_count": 10,
   "metadata": {},
   "outputs": [
    {
     "data": {
      "text/plain": [
       "\"import numpy as np\\nspecies_count = dict()\\nfor species in species_list:\\n    species_count[species] = 0\\nprint(species_count)\\ndata = np.zeros([46, 60,  12,76,2])\\nnames = ['species','count']\\nformats = ['f8','f8']\\ndtype = dict(species=species, formats=formats)\\ndata[:,:,:] = np.array(list(species_count.items()), dtype=dict)\""
      ]
     },
     "execution_count": 10,
     "metadata": {},
     "output_type": "execute_result"
    }
   ],
   "source": [
    "\"\"\"import numpy as np\n",
    "species_count = dict()\n",
    "for species in species_list:\n",
    "    species_count[species] = 0\n",
    "print(species_count)\n",
    "data = np.zeros([46, 60,  12,76,2])\n",
    "names = ['species','count']\n",
    "formats = ['f8','f8']\n",
    "dtype = dict(species=species, formats=formats)\n",
    "data[:,:,:] = np.array(list(species_count.items()), dtype=dict)\"\"\""
   ]
  },
  {
   "cell_type": "code",
   "execution_count": 11,
   "metadata": {},
   "outputs": [],
   "source": [
    "import numpy as np\n",
    "%matplotlib inline\n",
    "data = np.zeros([46, 60,  12,len(species_list)])\n",
    "for lati,lat in enumerate(np.arange(40,60,0.5)):\n",
    "    #print(lati, lat)\n",
    "    for loni,lon in enumerate(np.arange(-10,20,0.5)):\n",
    "        for month in range(12):\n",
    "            #for species in range(len(species_list)):\n",
    "            newdf = bee_data_df[(bee_data_df['Transect Latitude']>lat) & (bee_data_df['Transect Latitude']<lat+0.5) & (bee_data_df['Transect Longitude']>lon) & (bee_data_df['Transect Longitude']<lon+0.5)&(bee_data_df['Date of Survey'].dt.month==month)]\n",
    "                #if((bee_data_df['Transect Latitude']>lat).bool() and (bee_data_df['Transect Latitude']<lat+0.5).bool() and (bee_data_df['Transect Longitude']>lon).bool() and (bee_data_df['Transect Longitude']<lon+0.5).bool() and (bee_data_df['Date of Survey'].dt.month==month).bool()):\n",
    "                #print(len(newdf))\n",
    "                 #   print(\"hello\")pr\n",
    "            if (len(newdf)>0):\n",
    "                for index, row in newdf.iterrows():\n",
    "                    #print(newdf['Species'])\n",
    "                    data[lati, loni,month, species_list.index(row['Species'])]+=(row['Queens'] + row['Workers'] +row['Males']+row['Unknown'])\n",
    "\n",
    "                #data[lati,loni, month] = len(newdf)\n",
    "\n",
    "#plt.hist2d(data[0],data[1])"
   ]
  },
  {
   "cell_type": "code",
   "execution_count": null,
   "metadata": {},
   "outputs": [],
   "source": []
  },
  {
   "cell_type": "code",
   "execution_count": 12,
   "metadata": {},
   "outputs": [
    {
     "data": {
      "text/plain": [
       "'\\nfrom matplotlib import pyplot\\nfor month in range(len(species_list)):\\n    pyplot.figure(figsize=(10,10))\\n    pyplot.imshow(data[:,:,5,month])\\n    pyplot.title(species_list[month])\\n    pyplot.show()'"
      ]
     },
     "execution_count": 12,
     "metadata": {},
     "output_type": "execute_result"
    }
   ],
   "source": [
    "\"\"\"\n",
    "from matplotlib import pyplot\n",
    "for month in range(len(species_list)):\n",
    "    pyplot.figure(figsize=(10,10))\n",
    "    pyplot.imshow(data[:,:,5,month])\n",
    "    pyplot.title(species_list[month])\n",
    "    pyplot.show()\"\"\""
   ]
  },
  {
   "cell_type": "code",
   "execution_count": 13,
   "metadata": {},
   "outputs": [],
   "source": [
    "#consider using groupby when filling in data\n",
    "#sort the bee species in a descending order - get top 15 common bee species in the matrix\n",
    "#index the person's actual position and time of year to check for common bees at that time\n",
    "#send data as json or sth"
   ]
  },
  {
   "cell_type": "code",
   "execution_count": 14,
   "metadata": {},
   "outputs": [],
   "source": [
    "for long in data:\n",
    "    for month in long:\n",
    "        for j, months in enumerate(month):\n",
    "            \n",
    "            sortedlist = []\n",
    "            write = False\n",
    "        #for species in month:\n",
    "            for i, species_count in enumerate(months):\n",
    "                    #print (i, species_count)\n",
    "                \n",
    "                sortedlist.append((i, species_count))\n",
    "                #print(sortedlist)\n",
    "            #print(len(sortedlist))\n",
    "            list2=[]\n",
    "            for index, count in sorted(sortedlist, key = lambda x: x[1] , reverse=True):\n",
    "                if count>0:\n",
    "                    list2.append(index)\n",
    "                else:\n",
    "                    list2.append(-1)\n",
    "\n",
    "                    #print (i, species_count)\n",
    "            \n",
    "            #print( len(list2))\n",
    "            month[j] = np.array(list2)\n",
    "            #species = np.array(list2)\n",
    "                \n",
    "            #print(month[6])"
   ]
  },
  {
   "cell_type": "code",
   "execution_count": 15,
   "metadata": {},
   "outputs": [
    {
     "data": {
      "text/plain": [
       "'for long in data:\\n    for month in long:\\n        for species in month:\\n            for elem in species:\\n                if elem>0:\\n                    print(species)'"
      ]
     },
     "execution_count": 15,
     "metadata": {},
     "output_type": "execute_result"
    }
   ],
   "source": [
    "\"\"\"for long in data:\n",
    "    for month in long:\n",
    "        for species in month:\n",
    "            for elem in species:\n",
    "                if elem>0:\n",
    "                    print(species)\"\"\""
   ]
  },
  {
   "cell_type": "code",
   "execution_count": 17,
   "metadata": {},
   "outputs": [],
   "source": [
    "import json\n",
    "with open('bee_data.json', 'w') as json_file:\n",
    "    json.dump(data.tolist(), json_file)\n",
    "with open('species_set.json', 'w') as json_file:\n",
    "    json.dump(species_list, json_file)\n",
    "#save the set of species\n",
    "#json.dumps(data.tolist())"
   ]
  },
  {
   "cell_type": "code",
   "execution_count": null,
   "metadata": {},
   "outputs": [],
   "source": [
    "#save the index for those with numbers, if without save 'None'\n",
    "#change to the first 10 species in the ordered list"
   ]
  }
 ],
 "metadata": {
  "kernelspec": {
   "display_name": "Python 3",
   "language": "python",
   "name": "python3"
  },
  "language_info": {
   "codemirror_mode": {
    "name": "ipython",
    "version": 3
   },
   "file_extension": ".py",
   "mimetype": "text/x-python",
   "name": "python",
   "nbconvert_exporter": "python",
   "pygments_lexer": "ipython3",
   "version": "3.8.3"
  }
 },
 "nbformat": 4,
 "nbformat_minor": 4
}
