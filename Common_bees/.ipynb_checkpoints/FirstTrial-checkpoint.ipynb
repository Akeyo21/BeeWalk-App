{
 "cells": [
  {
   "cell_type": "code",
   "execution_count": 2,
   "metadata": {},
   "outputs": [],
   "source": [
    "#read file \n",
    "import pandas\n",
    "bee_data_df = pandas.read_excel('Bee_Data_changed.xlsx')\n",
    "#print(bee_data_df)"
   ]
  },
  {
   "cell_type": "code",
   "execution_count": 3,
   "metadata": {},
   "outputs": [],
   "source": [
    "def seasons(month):\n",
    "    season_of_year={\n",
    "        1:\"Winter\",\n",
    "        2:\"Winter\",\n",
    "        3:\"Spring\",\n",
    "        4:\"Spring\",\n",
    "        5:\"Spring\",\n",
    "        6:\"Summer\",\n",
    "        7:\"Summer\",\n",
    "        8:\"Summer\",\n",
    "        9:\"Autumn\",\n",
    "        10:\"Autumn\",\n",
    "        11:\"Autumn\",\n",
    "        12:\"Winter\"\n",
    "    }\n",
    "    return season_of_year.get(month,\"not available\")"
   ]
  },
  {
   "cell_type": "code",
   "execution_count": 4,
   "metadata": {},
   "outputs": [],
   "source": [
    "#read specific column - Date of Survey\n",
    "#for value in bee_data_df['Date of Survey']:\n",
    "\n",
    "#print(value.month)\n",
    "import csv\n",
    "columnsex = ['Species', 'Latin Name', 'Year','Queens','Workers','Males','Unknown']\n",
    "with open(\"Summer.csv\", \"w\") as summer:\n",
    "    with open(\"Spring.csv\", \"w\") as spring:\n",
    "        with open(\"Winter.csv\", \"w\") as winter:\n",
    "            with open(\"Autumn.csv\", \"w\") as autumn:\n",
    "                fieldnames = ['Species', 'Latin Name', 'Year','Queens','Workers','Males','Unknown']\n",
    "                writer = csv.DictWriter(summer, fieldnames=fieldnames)\n",
    "                spring_writer= csv.DictWriter(spring, fieldnames=fieldnames)\n",
    "                winter_writer= csv.DictWriter(winter, fieldnames=fieldnames)\n",
    "                autumn_writer= csv.DictWriter(autumn, fieldnames=fieldnames)\n",
    "                writer.writeheader()\n",
    "                spring_writer.writeheader()\n",
    "                winter_writer.writeheader()\n",
    "                autumn_writer.writeheader()\n",
    "                for index, row in bee_data_df.iterrows():\n",
    "                    #print(row[columnsex])\n",
    "                    #print(row['Species'])\n",
    "                    #list = []\n",
    "                    #list.extend((row['Species'], row['Latin Name'], row['Year'], row['Queens'],row['Workers'], row['Males']))\n",
    "                    if seasons(row['Date of Survey'].month) ==\"Summer\":\n",
    "                        writer.writerow({'Species': row['Species'], 'Latin Name': row['Latin Name'], 'Year': row['Year'], 'Queens':row['Queens'], 'Workers':row['Workers'],'Males':row['Males'],'Unknown':row['Unknown'] })\n",
    "\n",
    "                        #summer.write(\"\\n\")\n",
    "                    elif seasons(row['Date of Survey'].month) ==\"Winter\":\n",
    "                        winter_writer.writerow({'Species': row['Species'], 'Latin Name': row['Latin Name'], 'Year': row['Year'], 'Queens':row['Queens'], 'Workers':row['Workers'],'Males':row['Males'],'Unknown':row['Unknown'] })\n",
    "\n",
    "                    elif seasons(row['Date of Survey'].month) == \"Autumn\":\n",
    "                         autumn_writer.writerow({'Species': row['Species'], 'Latin Name': row['Latin Name'], 'Year': row['Year'], 'Queens':row['Queens'], 'Workers':row['Workers'],'Males':row['Males'],'Unknown':row['Unknown'] })\n",
    "\n",
    "                    elif seasons(row['Date of Survey'].month) ==\"Spring\":\n",
    "                         spring_writer.writerow({'Species': row['Species'], 'Latin Name': row['Latin Name'], 'Year': row['Year'], 'Queens':row['Queens'], 'Workers':row['Workers'],'Males':row['Males'],'Unknown':row['Unknown'] })\n",
    "\n",
    "                    else:\n",
    "                        print(seasons(row['Date of Survey'].month), \"unplaceable\")\n",
    "           "
   ]
  },
  {
   "cell_type": "code",
   "execution_count": 5,
   "metadata": {},
   "outputs": [
    {
     "name": "stdout",
     "output_type": "stream",
     "text": [
      "                    Species           Latin Name  Year  Queens  Workers  \\\n",
      "0  a white-tailed bumblebee  BOMBUS lucorum s.l.  2012       0        1   \n",
      "1  a white-tailed bumblebee  BOMBUS lucorum s.l.  2012       0        1   \n",
      "2           Early Bumblebee      BOMBUS pratorum  2012       0        0   \n",
      "3     Buff-tailed Bumblebee    BOMBUS terrestris  2012       0        1   \n",
      "4  a white-tailed bumblebee  BOMBUS lucorum s.l.  2012       0        4   \n",
      "\n",
      "   Males  Unknown  \n",
      "0      1        0  \n",
      "1      0        0  \n",
      "2      1        0  \n",
      "3      0        0  \n",
      "4      0        0  \n",
      "{2016, 2017, 2018, 2008, 2009, 2010, 2011, 2012, 2013, 2014, 2015}\n",
      "{'Brown-banded Carder', 'Common Carder', 'Megachile', nan, 'Hairy Legged Mining Bee', 'Short-fringed Mining Bee', 'Bilberry Bumblebee', 'Osmia', 'Red-tailed Cuckoo Bumblebee', 'Yellow Legged Mining Bee', 'Field Cuckoo Bumblebee', 'Heath Bumblebee', 'Gypsy Cuckoo Bumblebee', 'Nomada', 'Tawny Mining Bee', 'Slender Mining Bee', 'White/Buff-tailed Bumblebee workers', 'Colletes', 'Moss Carder', 'Garden Bumblebee', 'Shrill Carder', 'Forest Cuckoo Bumblebee', 'Red-shanked Carder', 'Short-haired Bumblebee', 'Great Yellow Bumblebee', 'a white-tailed bumblebee', 'Coast Leafcutter Bee', 'Silvery Leafcutter Bee', 'Buff-tailed Bumblebee', 'Early Bumblebee', 'Small Gorse Mining Bee', 'Two-coloured Mason Bee', 'Lasioglossum', 'Indet. Bee', 'Broken-belted Bumblebee', 'Red-tailed Bumblebee', 'Andrena', 'Buff-tailed Mining Bee', 'Ruderal Bumblebee', \"Davies' Colletes\", 'Common Yellow Face Bee', 'Southern Cuckoo Bumblebee', 'Tree Bumblebee', 'Sphecodes', 'Hairy Footed Flower Bee', \"Barbut's Cuckoo Bumblebee\", 'Honeybee'}\n"
     ]
    }
   ],
   "source": [
    "#filling in the years to work with data from each individual year\n",
    "years = set()\n",
    "bee_species = set()\n",
    "summer_data = pandas.read_csv('Summer.csv')\n",
    "for index, row in summer_data.iterrows():\n",
    "    years.add(row['Year'])\n",
    "    bee_species.add(row['Species'])\n",
    "print(summer_data.head())\n",
    "print(years)\n",
    "print(bee_species)"
   ]
  },
  {
   "cell_type": "code",
   "execution_count": 6,
   "metadata": {},
   "outputs": [],
   "source": [
    "#sum up the data of each bee spotted for each year\n",
    "#make a dictionary with each year having its own bee species count\n",
    "bee_count = dict()\n",
    "for bee in bee_species:\n",
    "    bee_count[bee] = 0\n",
    "#print(bee_count)\n",
    "bee_data_per_year = dict()\n",
    "for year in years:\n",
    "    bee_data_per_year[year] = bee_count\n",
    "#print(bee_data_per_year)\n"
   ]
  },
  {
   "cell_type": "code",
   "execution_count": 7,
   "metadata": {},
   "outputs": [],
   "source": [
    "for index, row in summer_data.iterrows():\n",
    "    bee_data_per_year[row['Year']][row['Species']] +=(row['Queens']+row['Workers']+row['Males']+row['Unknown'])\n",
    "#filled with the number of bees in numbers \n",
    "#print(bee_data_per_year)\n",
    "\n"
   ]
  },
  {
   "cell_type": "code",
   "execution_count": 8,
   "metadata": {},
   "outputs": [],
   "source": [
    "import operator\n",
    "sorted_bee_data = dict()\n",
    "for year in years:\n",
    "    sorted_bee_data[year] = dict( sorted(bee_data_per_year[year].items(), key=operator.itemgetter(1),reverse=True))\n",
    "#print(sorted_bee_data)"
   ]
  },
  {
   "cell_type": "code",
   "execution_count": 41,
   "metadata": {},
   "outputs": [],
   "source": [
    "# Create a data frame with one column, \"ages\"\n",
    "import matplotlib.pyplot as plt\n",
    "#extracting common bees only\n",
    "common_bees = dict()\n",
    "for year in years:\n",
    "    common_bees[year] = dict()\n",
    "    for elem in  sorted_bee_data[year].values():\n",
    "        if elem >100:\n",
    "            common_bees[year][list(sorted_bee_data[year].keys())[list(sorted_bee_data[year].values()).index(elem)]] = elem\n",
    "            #del list(sorted_bee_data[year].keys())[list(sorted_bee_data[year].values()).index(elem)]\n",
    "    #plt.plot(sorted_bee_data[year].keys(), sorted_bee_data[year].values())\n",
    "\"\"\"for year in sorted(years):\n",
    "    plt.bar(range(len(common_bees[year])), list(common_bees[year].values()), align='center')\n",
    "    plt.xticks(range(len(common_bees[year])), list(common_bees[year].keys()), rotation='vertical')\n",
    "# # for python 2.x:\n",
    "# plt.bar(range(len(D)), D.values(), align='center')  # python 2.x\n",
    "# plt.xticks(range(len(D)), D.keys())  # in python 2.x\n",
    "    plt.title(year)\n",
    "    plt.show()\"\"\"\n",
    "from matplotlib.backends.backend_pdf import FigureCanvasPdf, PdfPages\n",
    "from matplotlib.figure import Figure\n",
    "import numpy as np\n",
    "\n",
    "with PdfPages('multi.pdf') as pages:\n",
    "    for year in sorted(years):\n",
    "        fig = Figure(figsize=(8, 15))\n",
    "        plt = fig.gca()\n",
    "        plt.bar(range(len(common_bees[year])), list(common_bees[year].values()), align='center')\n",
    "        plt.set_xticks(range(len(common_bees[year])))\n",
    "        plt.set_xticklabels(list(common_bees[year].keys()), rotation=90)\n",
    "    # # for python 2.x:\n",
    "    # plt.bar(range(len(D)), D.values(), align='center')  # python 2.x\n",
    "    # plt.xticks(range(len(D)), D.keys())  # in python 2.x\n",
    "        plt.set_title(year)\n",
    "        canvas = FigureCanvasPdf(fig)\n",
    "        canvas.print_figure(pages)\n",
    "    \"\"\"for i in range(10):\n",
    "        \n",
    "        plt.plot(np.arange(10), np.random.randn(10))\n",
    "        canvas = FigureCanvasPdf(fig)\n",
    "        canvas.print_figure(pages)\n",
    "    \n",
    "plotdata = pandas.DataFrame(sorted_bee_data)\n",
    "plotdata[].plot(kind=\"bar\")\"\"\""
   ]
  },
  {
   "cell_type": "code",
   "execution_count": null,
   "metadata": {},
   "outputs": [],
   "source": []
  }
 ],
 "metadata": {
  "kernelspec": {
   "display_name": "Python 3",
   "language": "python",
   "name": "python3"
  },
  "language_info": {
   "codemirror_mode": {
    "name": "ipython",
    "version": 3
   },
   "file_extension": ".py",
   "mimetype": "text/x-python",
   "name": "python",
   "nbconvert_exporter": "python",
   "pygments_lexer": "ipython3",
   "version": "3.8.3"
  }
 },
 "nbformat": 4,
 "nbformat_minor": 4
}
