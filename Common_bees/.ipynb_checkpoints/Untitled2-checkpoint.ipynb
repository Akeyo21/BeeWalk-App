{
 "cells": [
  {
   "cell_type": "code",
   "execution_count": 3,
   "metadata": {},
   "outputs": [
    {
     "name": "stdout",
     "output_type": "stream",
     "text": [
      "Success: {\"pred\":[[\"Bombus terrestris\",0.5017764273798093],[\"Bombus pascuorum\",0.23375894136991657],[\"Bombus lapidarius\",0.13223634041605692],[\"Bombus pratorum\",0.07156998943355575],[\"Bombus vestalis\",0.043342086279658965],[\"Bombus hypnorum\",0.01444612136856449],[\"Bombus lucorum\",0.001217667100718245],[\"Bombus hortorum\",0.0010984701443264022],[\"Bombus rupestris\",0.0005082946736365559],[\"Bombus sylvestris\",2.8963015211051552e-05],[\"Bombus jonellus\",6.25578149993089e-06],[\"Bombus monticola\",5.150588549440745e-06],[\"Bombus muscorum\",2.92042204819154e-06],[\"Bombus humilis\",1.7216431160704815e-06],[\"Bombus campestris\",4.848592993766943e-07],[\"Bombus ruderatus\",5.444195139148277e-08],[\"Bombus sylvarum\",5.1385093513545144e-08],[\"Bombus bohemicus\",1.666068882855143e-08],[\"Bombus soroeensis\",1.2904671109481569e-08]]}\n",
      "\n"
     ]
    }
   ],
   "source": [
    "import requests\n",
    "response = requests.post('http://3.249.81.168/api/image', files={'image1': ('bumblebee.jpg', open('bumblebee.jpg','rb')), 'image2': ('bumblebee2.jpg', open('bumblebee2.jpg','rb'))})\n",
    "if response.status_code == 200:\n",
    "    print(\"Success: {}\".format(response.text))\n",
    "else: print(\"Failure: {}\".format(response.text))"
   ]
  }
 ],
 "metadata": {
  "kernelspec": {
   "display_name": "Python 3",
   "language": "python",
   "name": "python3"
  },
  "language_info": {
   "codemirror_mode": {
    "name": "ipython",
    "version": 3
   },
   "file_extension": ".py",
   "mimetype": "text/x-python",
   "name": "python",
   "nbconvert_exporter": "python",
   "pygments_lexer": "ipython3",
   "version": "3.8.3"
  }
 },
 "nbformat": 4,
 "nbformat_minor": 4
}
